{
  "nbformat": 4,
  "nbformat_minor": 0,
  "metadata": {
    "colab": {
      "name": "hw4.ipynb",
      "provenance": [],
      "authorship_tag": "ABX9TyPcKO33BJVXgWt2dsNugXJo",
      "include_colab_link": true
    },
    "kernelspec": {
      "name": "python3",
      "display_name": "Python 3"
    }
  },
  "cells": [
    {
      "cell_type": "markdown",
      "metadata": {
        "id": "view-in-github",
        "colab_type": "text"
      },
      "source": [
        "<a href=\"https://colab.research.google.com/github/fattrovi/24k/blob/master/blablabla4.ipynb\" target=\"_parent\"><img src=\"https://colab.research.google.com/assets/colab-badge.svg\" alt=\"Open In Colab\"/></a>"
      ]
    },
    {
      "cell_type": "code",
      "metadata": {
        "id": "hfkGKPTfKbtN",
        "colab_type": "code",
        "colab": {}
      },
      "source": [
        "%matplotlib inline\n",
        "import numpy as np\n",
        "import matplotlib.pyplot as plt\n",
        "import sympy as sp"
      ],
      "execution_count": 0,
      "outputs": []
    },
    {
      "cell_type": "markdown",
      "metadata": {
        "id": "cAqCXQEFK4LK",
        "colab_type": "text"
      },
      "source": [
        "## 給定任意兩個 n 維行向量 x, y，n 至少為 4，驗證 x y 的 T 次方 的 rank 為 1"
      ]
    },
    {
      "cell_type": "code",
      "metadata": {
        "id": "DeftNOKMKur6",
        "colab_type": "code",
        "colab": {}
      },
      "source": [
        "x = sp.Matrix([8,5,7,8,5,7])\n",
        "y = sp.Matrix([1,2,3,4,5,6])"
      ],
      "execution_count": 0,
      "outputs": []
    },
    {
      "cell_type": "code",
      "metadata": {
        "id": "j4RNwmU2L_g5",
        "colab_type": "code",
        "outputId": "4c13fd1b-aaf3-478a-c5c6-b1a1116443ab",
        "colab": {
          "base_uri": "https://localhost:8080/",
          "height": 136
        }
      },
      "source": [
        "x"
      ],
      "execution_count": 68,
      "outputs": [
        {
          "output_type": "execute_result",
          "data": {
            "text/plain": [
              "Matrix([\n",
              "[8],\n",
              "[5],\n",
              "[7],\n",
              "[8],\n",
              "[5],\n",
              "[7]])"
            ]
          },
          "metadata": {
            "tags": []
          },
          "execution_count": 68
        }
      ]
    },
    {
      "cell_type": "code",
      "metadata": {
        "id": "FVNT9KPrMGp9",
        "colab_type": "code",
        "outputId": "2a5f739c-8c46-432b-eaee-9e25f24da90d",
        "colab": {
          "base_uri": "https://localhost:8080/",
          "height": 136
        }
      },
      "source": [
        "y"
      ],
      "execution_count": 69,
      "outputs": [
        {
          "output_type": "execute_result",
          "data": {
            "text/plain": [
              "Matrix([\n",
              "[1],\n",
              "[2],\n",
              "[3],\n",
              "[4],\n",
              "[5],\n",
              "[6]])"
            ]
          },
          "metadata": {
            "tags": []
          },
          "execution_count": 69
        }
      ]
    },
    {
      "cell_type": "code",
      "metadata": {
        "id": "SsP8m5uQMHXh",
        "colab_type": "code",
        "colab": {}
      },
      "source": [
        "A = x*y.T\n"
      ],
      "execution_count": 0,
      "outputs": []
    },
    {
      "cell_type": "code",
      "metadata": {
        "id": "exH6MS2BOc6j",
        "colab_type": "code",
        "outputId": "128743a8-b820-4069-ad78-342cf0910963",
        "colab": {
          "base_uri": "https://localhost:8080/",
          "height": 136
        }
      },
      "source": [
        "A"
      ],
      "execution_count": 71,
      "outputs": [
        {
          "output_type": "execute_result",
          "data": {
            "text/plain": [
              "Matrix([\n",
              "[8, 16, 24, 32, 40, 48],\n",
              "[5, 10, 15, 20, 25, 30],\n",
              "[7, 14, 21, 28, 35, 42],\n",
              "[8, 16, 24, 32, 40, 48],\n",
              "[5, 10, 15, 20, 25, 30],\n",
              "[7, 14, 21, 28, 35, 42]])"
            ]
          },
          "metadata": {
            "tags": []
          },
          "execution_count": 71
        }
      ]
    },
    {
      "cell_type": "code",
      "metadata": {
        "id": "B49pHlTTMLAU",
        "colab_type": "code",
        "colab": {}
      },
      "source": [
        "a = A.col(0)\n",
        "b = A.col(1)\n",
        "c = A.col(2)\n",
        "d = A.col(3)\n",
        "e = A.col(4)\n",
        "f = A.col(5)"
      ],
      "execution_count": 0,
      "outputs": []
    },
    {
      "cell_type": "code",
      "metadata": {
        "id": "Uh_-P8tNMuhX",
        "colab_type": "code",
        "outputId": "60ba93a8-8df5-47c9-a72a-b00813059d18",
        "colab": {
          "base_uri": "https://localhost:8080/",
          "height": 34
        }
      },
      "source": [
        "a == a*1 "
      ],
      "execution_count": 73,
      "outputs": [
        {
          "output_type": "execute_result",
          "data": {
            "text/plain": [
              "True"
            ]
          },
          "metadata": {
            "tags": []
          },
          "execution_count": 73
        }
      ]
    },
    {
      "cell_type": "code",
      "metadata": {
        "id": "je66vBiLM1Jw",
        "colab_type": "code",
        "outputId": "e21e05b1-6241-4b49-f943-a9f6eaf437e6",
        "colab": {
          "base_uri": "https://localhost:8080/",
          "height": 34
        }
      },
      "source": [
        "b == a*2"
      ],
      "execution_count": 74,
      "outputs": [
        {
          "output_type": "execute_result",
          "data": {
            "text/plain": [
              "True"
            ]
          },
          "metadata": {
            "tags": []
          },
          "execution_count": 74
        }
      ]
    },
    {
      "cell_type": "code",
      "metadata": {
        "id": "TY6OUwqWQl2L",
        "colab_type": "code",
        "outputId": "787a9f07-5916-4d81-f171-7b3cede80588",
        "colab": {
          "base_uri": "https://localhost:8080/",
          "height": 34
        }
      },
      "source": [
        "c == a*3"
      ],
      "execution_count": 75,
      "outputs": [
        {
          "output_type": "execute_result",
          "data": {
            "text/plain": [
              "True"
            ]
          },
          "metadata": {
            "tags": []
          },
          "execution_count": 75
        }
      ]
    },
    {
      "cell_type": "code",
      "metadata": {
        "id": "GTqvjx-tRYhz",
        "colab_type": "code",
        "outputId": "60d311f7-5190-4347-fb50-93eb32411ddf",
        "colab": {
          "base_uri": "https://localhost:8080/",
          "height": 34
        }
      },
      "source": [
        "d == a*4"
      ],
      "execution_count": 76,
      "outputs": [
        {
          "output_type": "execute_result",
          "data": {
            "text/plain": [
              "True"
            ]
          },
          "metadata": {
            "tags": []
          },
          "execution_count": 76
        }
      ]
    },
    {
      "cell_type": "code",
      "metadata": {
        "id": "gxq3nyqZRZzN",
        "colab_type": "code",
        "outputId": "29a41219-2de0-4ef5-b6d6-5067bfc576ee",
        "colab": {
          "base_uri": "https://localhost:8080/",
          "height": 34
        }
      },
      "source": [
        "e == a*5"
      ],
      "execution_count": 77,
      "outputs": [
        {
          "output_type": "execute_result",
          "data": {
            "text/plain": [
              "True"
            ]
          },
          "metadata": {
            "tags": []
          },
          "execution_count": 77
        }
      ]
    },
    {
      "cell_type": "code",
      "metadata": {
        "id": "HV0ojzZ0RbEP",
        "colab_type": "code",
        "outputId": "8d4e9f15-609b-4e19-e1a5-4de6e35d64b8",
        "colab": {
          "base_uri": "https://localhost:8080/",
          "height": 34
        }
      },
      "source": [
        "f == a*6"
      ],
      "execution_count": 78,
      "outputs": [
        {
          "output_type": "execute_result",
          "data": {
            "text/plain": [
              "True"
            ]
          },
          "metadata": {
            "tags": []
          },
          "execution_count": 78
        }
      ]
    },
    {
      "cell_type": "markdown",
      "metadata": {
        "id": "4Hmf-ftNRngC",
        "colab_type": "text"
      },
      "source": [
        "# 由上可證 xy^T的 rank 為 1"
      ]
    }
  ]
}