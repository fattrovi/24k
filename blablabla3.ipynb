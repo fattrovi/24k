{
  "nbformat": 4,
  "nbformat_minor": 0,
  "metadata": {
    "colab": {
      "name": "blablabla3.ipynb",
      "provenance": [],
      "authorship_tag": "ABX9TyPzwf33gl9CZynB89AD++5t",
      "include_colab_link": true
    },
    "kernelspec": {
      "name": "python3",
      "display_name": "Python 3"
    }
  },
  "cells": [
    {
      "cell_type": "markdown",
      "metadata": {
        "id": "view-in-github",
        "colab_type": "text"
      },
      "source": [
        "<a href=\"https://colab.research.google.com/github/fattrovi/24k/blob/master/blablabla3.ipynb\" target=\"_parent\"><img src=\"https://colab.research.google.com/assets/colab-badge.svg\" alt=\"Open In Colab\"/></a>"
      ]
    },
    {
      "cell_type": "code",
      "metadata": {
        "id": "aEUFSuKDpof4",
        "colab_type": "code",
        "colab": {}
      },
      "source": [
        "%matplotlib inline\n",
        "import numpy as np\n",
        "import matplotlib.pyplot as plt\n",
        "import sympy as sp"
      ],
      "execution_count": 0,
      "outputs": []
    },
    {
      "cell_type": "markdown",
      "metadata": {
        "id": "olCGMC73rQn8",
        "colab_type": "text"
      },
      "source": [
        "1.令一個矩陣A,求RREF,用 minus 1 trick 找到homogeneous sol 被那些向量生成?"
      ]
    },
    {
      "cell_type": "code",
      "metadata": {
        "id": "lypKnqjMqRC4",
        "colab_type": "code",
        "outputId": "05c4e7f0-0d44-4c18-ac9c-048ecc5b8295",
        "colab": {
          "base_uri": "https://localhost:8080/",
          "height": 85
        }
      },
      "source": [
        "A = sp.Matrix([[3,9,0,6,1,12],\n",
        "               [1,3,1,6,7,7],\n",
        "               [2,6,0,4,1,7]])\n",
        "A.rref()"
      ],
      "execution_count": 15,
      "outputs": [
        {
          "output_type": "execute_result",
          "data": {
            "text/plain": [
              "(Matrix([\n",
              " [1, 3, 0, 2, 0,  5],\n",
              " [0, 0, 1, 4, 0, 23],\n",
              " [0, 0, 0, 0, 1, -3]]), (0, 2, 4))"
            ]
          },
          "metadata": {
            "tags": []
          },
          "execution_count": 15
        }
      ]
    },
    {
      "cell_type": "code",
      "metadata": {
        "id": "gXZCcyDoqeqD",
        "colab_type": "code",
        "colab": {}
      },
      "source": [
        "B = A.rref()[0]"
      ],
      "execution_count": 0,
      "outputs": []
    },
    {
      "cell_type": "code",
      "metadata": {
        "id": "cMCVz9mPq37L",
        "colab_type": "code",
        "outputId": "40fe3c3b-4d30-4aeb-9211-7fc9c89b4ea4",
        "colab": {
          "base_uri": "https://localhost:8080/",
          "height": 136
        }
      },
      "source": [
        "B = B.row_insert(1, sp.Matrix([[0,-1,0,0,0,0]]))\n",
        "B = B.row_insert(3, sp.Matrix([[0,0,0,-1,0,0]]))\n",
        "B = B.row_insert(5, sp.Matrix([[0,0,0,0,0,-1]]))\n",
        "B"
      ],
      "execution_count": 17,
      "outputs": [
        {
          "output_type": "execute_result",
          "data": {
            "text/plain": [
              "Matrix([\n",
              "[1,  3, 0,  2, 0,  5],\n",
              "[0, -1, 0,  0, 0,  0],\n",
              "[0,  0, 1,  4, 0, 23],\n",
              "[0,  0, 0, -1, 0,  0],\n",
              "[0,  0, 0,  0, 1, -3],\n",
              "[0,  0, 0,  0, 0, -1]])"
            ]
          },
          "metadata": {
            "tags": []
          },
          "execution_count": 17
        }
      ]
    },
    {
      "cell_type": "code",
      "metadata": {
        "id": "GY_geWEAq471",
        "colab_type": "code",
        "colab": {}
      },
      "source": [
        "u1 = B.col(1)\n",
        "u2 = B.col(3)\n",
        "u3 = B.col(5)"
      ],
      "execution_count": 0,
      "outputs": []
    },
    {
      "cell_type": "code",
      "metadata": {
        "id": "WIzsus1vrCPF",
        "colab_type": "code",
        "colab": {}
      },
      "source": [
        "u = 9*u1 + 8*u2 + 7*u3"
      ],
      "execution_count": 0,
      "outputs": []
    },
    {
      "cell_type": "code",
      "metadata": {
        "id": "GwonGLpVrEnU",
        "colab_type": "code",
        "colab": {
          "base_uri": "https://localhost:8080/",
          "height": 85
        },
        "outputId": "9ef1d712-68d7-4031-dcf1-048ce6bc99d3"
      },
      "source": [
        "A*u"
      ],
      "execution_count": 20,
      "outputs": [
        {
          "output_type": "execute_result",
          "data": {
            "text/plain": [
              "Matrix([\n",
              "[0],\n",
              "[0],\n",
              "[0]])"
            ]
          },
          "metadata": {
            "tags": []
          },
          "execution_count": 20
        }
      ]
    }
  ]
}