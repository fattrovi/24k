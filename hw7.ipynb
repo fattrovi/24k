{
  "nbformat": 4,
  "nbformat_minor": 0,
  "metadata": {
    "colab": {
      "name": "hw7.ipynb",
      "provenance": [],
      "authorship_tag": "ABX9TyODIKzfh1Ke+gw3vcrgw9cr",
      "include_colab_link": true
    },
    "kernelspec": {
      "name": "python3",
      "display_name": "Python 3"
    }
  },
  "cells": [
    {
      "cell_type": "markdown",
      "metadata": {
        "id": "view-in-github",
        "colab_type": "text"
      },
      "source": [
        "<a href=\"https://colab.research.google.com/github/fattrovi/24k/blob/master/hw7.ipynb\" target=\"_parent\"><img src=\"https://colab.research.google.com/assets/colab-badge.svg\" alt=\"Open In Colab\"/></a>"
      ]
    },
    {
      "cell_type": "code",
      "metadata": {
        "id": "KYz6b_7hoOcQ",
        "colab_type": "code",
        "colab": {}
      },
      "source": [
        "%matplotlib inline\n",
        "import matplotlib.pyplot as plt\n",
        "import numpy as np\n",
        "import sympy as sp"
      ],
      "execution_count": 0,
      "outputs": []
    },
    {
      "cell_type": "markdown",
      "metadata": {
        "id": "sYQ3-4BHtr0X",
        "colab_type": "text"
      },
      "source": [
        "### 1.建立一R^2 矩陣A & B並定義線性運算子 T([x,y])=[4x-2y,2x+y]相對基底為f1[1,1] 和 f2[-1,0]\n",
        "\n",
        "\n"
      ]
    },
    {
      "cell_type": "code",
      "metadata": {
        "id": "dgZ-htT9uGia",
        "colab_type": "code",
        "colab": {
          "base_uri": "https://localhost:8080/",
          "height": 68
        },
        "outputId": "fb0025a8-35d7-40df-a5ea-967168421cbd"
      },
      "source": [
        "A = sp.Matrix([[8,9],\n",
        "               [1,1,]])\n",
        "A"
      ],
      "execution_count": 15,
      "outputs": [
        {
          "output_type": "execute_result",
          "data": {
            "text/plain": [
              "Matrix([\n",
              "[8, 9],\n",
              "[1, 1]])"
            ]
          },
          "metadata": {
            "tags": []
          },
          "execution_count": 15
        }
      ]
    },
    {
      "cell_type": "code",
      "metadata": {
        "id": "vrKUyXNnx5XX",
        "colab_type": "code",
        "colab": {
          "base_uri": "https://localhost:8080/",
          "height": 68
        },
        "outputId": "614e80bb-eca1-4ee1-e7a4-6fed360b0233"
      },
      "source": [
        "B = sp.Matrix([[2,3],\n",
        "               [4,5,]])\n",
        "B"
      ],
      "execution_count": 16,
      "outputs": [
        {
          "output_type": "execute_result",
          "data": {
            "text/plain": [
              "Matrix([\n",
              "[2, 3],\n",
              "[4, 5]])"
            ]
          },
          "metadata": {
            "tags": []
          },
          "execution_count": 16
        }
      ]
    },
    {
      "cell_type": "code",
      "metadata": {
        "id": "G7m_yVFEuqj4",
        "colab_type": "code",
        "colab": {
          "base_uri": "https://localhost:8080/",
          "height": 68
        },
        "outputId": "0edbbdf0-ead6-4563-d2ea-de249906ab94"
      },
      "source": [
        "x = 1\n",
        "y = 1\n",
        "T1 = sp.Matrix([[4*x-2*y],[2*x+y]])\n",
        "T1"
      ],
      "execution_count": 17,
      "outputs": [
        {
          "output_type": "execute_result",
          "data": {
            "text/plain": [
              "Matrix([\n",
              "[2],\n",
              "[3]])"
            ]
          },
          "metadata": {
            "tags": []
          },
          "execution_count": 17
        }
      ]
    },
    {
      "cell_type": "markdown",
      "metadata": {
        "id": "hL0IvJ7xzGCd",
        "colab_type": "text"
      },
      "source": [
        "[2,3] = 3f1+f2"
      ]
    },
    {
      "cell_type": "code",
      "metadata": {
        "id": "TqiSffS7w3J3",
        "colab_type": "code",
        "colab": {
          "base_uri": "https://localhost:8080/",
          "height": 68
        },
        "outputId": "53cfb0e3-4f02-40b4-ecb4-b3a3e06277e5"
      },
      "source": [
        "x = -1\n",
        "y = 0\n",
        "T2 = sp.Matrix([[4*x-2*y],[2*x+y]])\n",
        "T2"
      ],
      "execution_count": 18,
      "outputs": [
        {
          "output_type": "execute_result",
          "data": {
            "text/plain": [
              "Matrix([\n",
              "[-4],\n",
              "[-2]])"
            ]
          },
          "metadata": {
            "tags": []
          },
          "execution_count": 18
        }
      ]
    },
    {
      "cell_type": "markdown",
      "metadata": {
        "id": "duoBrw5Yy-OP",
        "colab_type": "text"
      },
      "source": [
        "[-4,2] = -2f1+2f2"
      ]
    },
    {
      "cell_type": "markdown",
      "metadata": {
        "id": "tozbRAWrxA6K",
        "colab_type": "text"
      },
      "source": [
        "### `2.獲得一轉置矩陣T"
      ]
    },
    {
      "cell_type": "code",
      "metadata": {
        "id": "hXIDhDVAvsMg",
        "colab_type": "code",
        "colab": {
          "base_uri": "https://localhost:8080/",
          "height": 68
        },
        "outputId": "9432f561-f3a7-4e1a-f268-71b5618ef229"
      },
      "source": [
        "T = sp.Matrix([[3,-2],\n",
        "               [1,2]])\n",
        "T"
      ],
      "execution_count": 19,
      "outputs": [
        {
          "output_type": "execute_result",
          "data": {
            "text/plain": [
              "Matrix([\n",
              "[3, -2],\n",
              "[1,  2]])"
            ]
          },
          "metadata": {
            "tags": []
          },
          "execution_count": 19
        }
      ]
    },
    {
      "cell_type": "code",
      "metadata": {
        "id": "n3FlpeFNzT-O",
        "colab_type": "code",
        "colab": {
          "base_uri": "https://localhost:8080/",
          "height": 34
        },
        "outputId": "93fee378-e87d-405c-b600-a5c7a9bd3800"
      },
      "source": [
        "T@A+T@B == T@(A+B)"
      ],
      "execution_count": 20,
      "outputs": [
        {
          "output_type": "execute_result",
          "data": {
            "text/plain": [
              "True"
            ]
          },
          "metadata": {
            "tags": []
          },
          "execution_count": 20
        }
      ]
    },
    {
      "cell_type": "markdown",
      "metadata": {
        "id": "gfAcvJm_ziom",
        "colab_type": "text"
      },
      "source": [
        "Show that this is a linear mapping"
      ]
    },
    {
      "cell_type": "markdown",
      "metadata": {
        "id": "fVep9v0_0GDt",
        "colab_type": "text"
      },
      "source": [
        "### 3.基底轉換 Φ:ℝ^2→ℝ^3"
      ]
    },
    {
      "cell_type": "code",
      "metadata": {
        "id": "fy-4a6WB0S_y",
        "colab_type": "code",
        "colab": {}
      },
      "source": [
        ""
      ],
      "execution_count": 0,
      "outputs": []
    }
  ]
}