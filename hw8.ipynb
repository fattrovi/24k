{
  "nbformat": 4,
  "nbformat_minor": 0,
  "metadata": {
    "colab": {
      "name": "hw8.ipynb",
      "provenance": [],
      "authorship_tag": "ABX9TyOYj0w56PY7Vd8VYbSwWeWK",
      "include_colab_link": true
    },
    "kernelspec": {
      "name": "python3",
      "display_name": "Python 3"
    }
  },
  "cells": [
    {
      "cell_type": "markdown",
      "metadata": {
        "id": "view-in-github",
        "colab_type": "text"
      },
      "source": [
        "<a href=\"https://colab.research.google.com/github/fattrovi/24k/blob/master/hw8.ipynb\" target=\"_parent\"><img src=\"https://colab.research.google.com/assets/colab-badge.svg\" alt=\"Open In Colab\"/></a>"
      ]
    },
    {
      "cell_type": "code",
      "metadata": {
        "id": "ubf64bDQksOm",
        "colab_type": "code",
        "colab": {}
      },
      "source": [
        "%matplotlib inline\n",
        "\n",
        "import numpy as np\n",
        "import sympy as sp\n",
        "import matplotlib.pyplot as plt"
      ],
      "execution_count": 0,
      "outputs": []
    },
    {
      "cell_type": "markdown",
      "metadata": {
        "id": "3CEYRFUtk5mB",
        "colab_type": "text"
      },
      "source": [
        "# Define an affine subspace V in R^2\n",
        "# V = x + a * u \n",
        "# x is a point, and u is a vector on R^2"
      ]
    },
    {
      "cell_type": "code",
      "metadata": {
        "id": "ZDUbRg4Vl6Pt",
        "colab_type": "code",
        "colab": {
          "base_uri": "https://localhost:8080/",
          "height": 269
        },
        "outputId": "964c89b1-425c-40c8-9696-44e5e737a979"
      },
      "source": [
        "x = np.array([7,5])\n",
        "a = np.linspace(-10,10,100)\n",
        "u = np.array([3,-6])\n",
        "Vx = []\n",
        "Vy = []\n",
        "for i in a:\n",
        "  dot = x + np.dot(i, u)\n",
        "  plt.scatter(dot[1], dot[0], s = 30, c = 'g')\n",
        "  Vx.append(dot[0])\n",
        "  Vy.append(dot[1])\n",
        "\n",
        "V = np.array([Vx,Vy]).T"
      ],
      "execution_count": 47,
      "outputs": [
        {
          "output_type": "display_data",
          "data": {
            "image/png": "[encoded data removed]",
            "text/plain": [
              "<Figure size 432x288 with 1 Axes>"
            ]
          },
          "metadata": {
            "tags": [],
            "needs_background": "light"
          }
        }
      ]
    },
    {
      "cell_type": "markdown",
      "metadata": {
        "id": "-Dj-FYXeqe-b",
        "colab_type": "text"
      },
      "source": [
        "# A is a transformation matrix\n",
        "# b is the translation vector for affine mapping function Φ\n",
        "# Affine subspace W=Φ(V)\n",
        "\n"
      ]
    },
    {
      "cell_type": "code",
      "metadata": {
        "id": "k8ydQ6KQnsuM",
        "colab_type": "code",
        "colab": {
          "base_uri": "https://localhost:8080/",
          "height": 265
        },
        "outputId": "d8d4e527-14e4-4f98-ce7a-d30c30916617"
      },
      "source": [
        "A = np.array([[-1/5, 3/2],\n",
        "              [-3/2, -1/5]])\n",
        "b = np.array([2,-1])\n",
        "V2x = []\n",
        "V2y = []\n",
        "\n",
        "for i in range(V.shape[0]):\n",
        "  coin = b + np.dot(A, V[i])\n",
        "  plt.scatter(coin[0], coin[1], s = 25, c = 'purple')\n",
        "  V2x.append(coin[0])\n",
        "  V2y.append(coin[1])\n",
        "\n",
        "V2 = np.array([V2x, V2y])"
      ],
      "execution_count": 43,
      "outputs": [
        {
          "output_type": "display_data",
          "data": {
            "image/png": "[encoded data removed]",
            "text/plain": [
              "<Figure size 432x288 with 1 Axes>"
            ]
          },
          "metadata": {
            "tags": [],
            "needs_background": "light"
          }
        }
      ]
    },
    {
      "cell_type": "markdown",
      "metadata": {
        "id": "ww5BpTWIuFQZ",
        "colab_type": "text"
      },
      "source": [
        "## Plot V & V2"
      ]
    },
    {
      "cell_type": "code",
      "metadata": {
        "id": "jGzVx1N4uGCT",
        "colab_type": "code",
        "colab": {
          "base_uri": "https://localhost:8080/",
          "height": 282
        },
        "outputId": "c4226fca-3805-45b9-f4a6-a1b9324ad73a"
      },
      "source": [
        "plt.scatter(Vx, Vy, s = 25, c = 'g')\n",
        "plt.scatter(V2x, V2y, s = 25, c = 'purple')"
      ],
      "execution_count": 48,
      "outputs": [
        {
          "output_type": "execute_result",
          "data": {
            "text/plain": [
              "<matplotlib.collections.PathCollection at 0x7f1cb97e8208>"
            ]
          },
          "metadata": {
            "tags": []
          },
          "execution_count": 48
        },
        {
          "output_type": "display_data",
          "data": {
            "image/png": "[encoded data removed]",
            "text/plain": [
              "<Figure size 432x288 with 1 Axes>"
            ]
          },
          "metadata": {
            "tags": [],
            "needs_background": "light"
          }
        }
      ]
    },
    {
      "cell_type": "code",
      "metadata": {
        "id": "pHg9hMT_uM3U",
        "colab_type": "code",
        "colab": {}
      },
      "source": [
        ""
      ],
      "execution_count": 0,
      "outputs": []
    }
  ]
}