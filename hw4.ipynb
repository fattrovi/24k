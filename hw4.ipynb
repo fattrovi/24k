{
  "nbformat": 4,
  "nbformat_minor": 0,
  "metadata": {
    "colab": {
      "name": "hw4.ipynb",
      "provenance": [],
      "authorship_tag": "ABX9TyPcKO33BJVXgWt2dsNugXJo",
      "include_colab_link": true
    },
    "kernelspec": {
      "name": "python3",
      "display_name": "Python 3"
    }
  },
  "cells": [
    {
      "cell_type": "markdown",
      "metadata": {
        "id": "view-in-github",
        "colab_type": "text"
      },
      "source": [
        "<a href=\"https://colab.research.google.com/github/fattrovi/24k/blob/master/hw4.ipynb\" target=\"_parent\"><img src=\"https://colab.research.google.com/assets/colab-badge.svg\" alt=\"Open In Colab\"/></a>"
      ]
    },
    {
      "cell_type": "code",
      "metadata": {
        "id": "hfkGKPTfKbtN",
        "colab_type": "code",
        "colab": {}
      },
      "source": [
        "%matplotlib inline\n",
        "import numpy as np\n",
        "import matplotlib.pyplot as plt\n",
        "import sympy as sp"
      ],
      "execution_count": 0,
      "outputs": []
    },
    {
      "cell_type": "markdown",
      "metadata": {
        "id": "cAqCXQEFK4LK",
        "colab_type": "text"
      },
      "source": [
        "## 給定任意兩個 n 維行向量 x, y，n 至少為 4，驗證 x y 的 T 次方 的 rank 為 1"
      ]
    },
    {
      "cell_type": "code",
      "metadata": {
        "id": "DeftNOKMKur6",
        "colab_type": "code",
        "colab": {}
      },
      "source": [
        "x = sp.Matrix([8,5,7,8,5,7])\n",
        "y = sp.Matrix([1,2,3,4,5,6])"
      ],
      "execution_count": 0,
      "outputs": []
    },
    {
      "cell_type": "code",
      "metadata": {
        "id": "j4RNwmU2L_g5",
        "colab_type": "code",
        "colab": {
          "base_uri": "https://localhost:8080/",
          "height": 136
        },
        "outputId": "d18eaaed-71af-4c97-dfdf-a5fd50dc9275"
      },
      "source": [
        "x"
      ],
      "execution_count": 55,
      "outputs": [
        {
          "output_type": "execute_result",
          "data": {
            "text/plain": [
              "Matrix([\n",
              "[8],\n",
              "[5],\n",
              "[7],\n",
              "[8],\n",
              "[5],\n",
              "[7]])"
            ]
          },
          "metadata": {
            "tags": []
          },
          "execution_count": 55
        }
      ]
    },
    {
      "cell_type": "code",
      "metadata": {
        "id": "FVNT9KPrMGp9",
        "colab_type": "code",
        "colab": {
          "base_uri": "https://localhost:8080/",
          "height": 136
        },
        "outputId": "b13293ed-e805-4360-b500-a60944ee76cd"
      },
      "source": [
        "y"
      ],
      "execution_count": 56,
      "outputs": [
        {
          "output_type": "execute_result",
          "data": {
            "text/plain": [
              "Matrix([\n",
              "[1],\n",
              "[2],\n",
              "[3],\n",
              "[4],\n",
              "[5],\n",
              "[6]])"
            ]
          },
          "metadata": {
            "tags": []
          },
          "execution_count": 56
        }
      ]
    },
    {
      "cell_type": "code",
      "metadata": {
        "id": "SsP8m5uQMHXh",
        "colab_type": "code",
        "colab": {}
      },
      "source": [
        "A = x*y.T\n"
      ],
      "execution_count": 0,
      "outputs": []
    },
    {
      "cell_type": "code",
      "metadata": {
        "id": "exH6MS2BOc6j",
        "colab_type": "code",
        "colab": {
          "base_uri": "https://localhost:8080/",
          "height": 136
        },
        "outputId": "7114efc4-90d4-43c5-b58d-16f993491367"
      },
      "source": [
        "A"
      ],
      "execution_count": 58,
      "outputs": [
        {
          "output_type": "execute_result",
          "data": {
            "text/plain": [
              "Matrix([\n",
              "[8, 16, 24, 32, 40, 48],\n",
              "[5, 10, 15, 20, 25, 30],\n",
              "[7, 14, 21, 28, 35, 42],\n",
              "[8, 16, 24, 32, 40, 48],\n",
              "[5, 10, 15, 20, 25, 30],\n",
              "[7, 14, 21, 28, 35, 42]])"
            ]
          },
          "metadata": {
            "tags": []
          },
          "execution_count": 58
        }
      ]
    },
    {
      "cell_type": "code",
      "metadata": {
        "id": "B49pHlTTMLAU",
        "colab_type": "code",
        "colab": {}
      },
      "source": [
        "a = A.col(0)\n",
        "b = A.col(1)\n",
        "c = A.col(2)\n",
        "d = A.col(3)\n",
        "e = A.col(4)\n",
        "f = A.col(5)"
      ],
      "execution_count": 0,
      "outputs": []
    },
    {
      "cell_type": "code",
      "metadata": {
        "id": "Uh_-P8tNMuhX",
        "colab_type": "code",
        "colab": {
          "base_uri": "https://localhost:8080/",
          "height": 34
        },
        "outputId": "926010a4-3d7c-41cb-94af-392d3b0a38e5"
      },
      "source": [
        "a == a*1 "
      ],
      "execution_count": 60,
      "outputs": [
        {
          "output_type": "execute_result",
          "data": {
            "text/plain": [
              "True"
            ]
          },
          "metadata": {
            "tags": []
          },
          "execution_count": 60
        }
      ]
    },
    {
      "cell_type": "code",
      "metadata": {
        "id": "je66vBiLM1Jw",
        "colab_type": "code",
        "colab": {
          "base_uri": "https://localhost:8080/",
          "height": 34
        },
        "outputId": "9e4931cc-82e8-4095-af7e-0aeb747be0b7"
      },
      "source": [
        "b == a*2"
      ],
      "execution_count": 61,
      "outputs": [
        {
          "output_type": "execute_result",
          "data": {
            "text/plain": [
              "True"
            ]
          },
          "metadata": {
            "tags": []
          },
          "execution_count": 61
        }
      ]
    },
    {
      "cell_type": "code",
      "metadata": {
        "id": "TY6OUwqWQl2L",
        "colab_type": "code",
        "colab": {
          "base_uri": "https://localhost:8080/",
          "height": 34
        },
        "outputId": "eb011815-44c5-4630-a6d3-91ddb580d48b"
      },
      "source": [
        "c == a*3"
      ],
      "execution_count": 62,
      "outputs": [
        {
          "output_type": "execute_result",
          "data": {
            "text/plain": [
              "True"
            ]
          },
          "metadata": {
            "tags": []
          },
          "execution_count": 62
        }
      ]
    },
    {
      "cell_type": "code",
      "metadata": {
        "id": "GTqvjx-tRYhz",
        "colab_type": "code",
        "colab": {
          "base_uri": "https://localhost:8080/",
          "height": 34
        },
        "outputId": "09e265d2-c62f-4e92-997d-c0fd9b6f5f60"
      },
      "source": [
        "d == a*4"
      ],
      "execution_count": 63,
      "outputs": [
        {
          "output_type": "execute_result",
          "data": {
            "text/plain": [
              "True"
            ]
          },
          "metadata": {
            "tags": []
          },
          "execution_count": 63
        }
      ]
    },
    {
      "cell_type": "code",
      "metadata": {
        "id": "gxq3nyqZRZzN",
        "colab_type": "code",
        "colab": {
          "base_uri": "https://localhost:8080/",
          "height": 34
        },
        "outputId": "a13c73cd-f5fc-40c7-c2a3-28d6498caaa6"
      },
      "source": [
        "e == a*5"
      ],
      "execution_count": 64,
      "outputs": [
        {
          "output_type": "execute_result",
          "data": {
            "text/plain": [
              "True"
            ]
          },
          "metadata": {
            "tags": []
          },
          "execution_count": 64
        }
      ]
    },
    {
      "cell_type": "code",
      "metadata": {
        "id": "HV0ojzZ0RbEP",
        "colab_type": "code",
        "colab": {
          "base_uri": "https://localhost:8080/",
          "height": 34
        },
        "outputId": "e027ba3d-a4a2-4a66-a23e-20a4d88e581c"
      },
      "source": [
        "f == a*6"
      ],
      "execution_count": 65,
      "outputs": [
        {
          "output_type": "execute_result",
          "data": {
            "text/plain": [
              "True"
            ]
          },
          "metadata": {
            "tags": []
          },
          "execution_count": 65
        }
      ]
    },
    {
      "cell_type": "markdown",
      "metadata": {
        "id": "4Hmf-ftNRngC",
        "colab_type": "text"
      },
      "source": [
        "# 由上可證 xy^T的 rank 為 1"
      ]
    }
  ]
}