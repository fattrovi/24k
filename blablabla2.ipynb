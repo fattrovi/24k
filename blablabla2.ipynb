{
  "nbformat": 4,
  "nbformat_minor": 0,
  "metadata": {
    "colab": {
      "name": "blablabla2.ipynb",
      "provenance": [],
      "authorship_tag": "ABX9TyPwgkgBE8J6Sv9NcaKFpGo/",
      "include_colab_link": true
    },
    "kernelspec": {
      "name": "python3",
      "display_name": "Python 3"
    }
  },
  "cells": [
    {
      "cell_type": "markdown",
      "metadata": {
        "id": "view-in-github",
        "colab_type": "text"
      },
      "source": [
        "<a href=\"https://colab.research.google.com/github/fattrovi/24k/blob/master/blablabla2.ipynb\" target=\"_parent\"><img src=\"https://colab.research.google.com/assets/colab-badge.svg\" alt=\"Open In Colab\"/></a>"
      ]
    },
    {
      "cell_type": "code",
      "metadata": {
        "id": "bztZK28JRhF8",
        "colab_type": "code",
        "colab": {}
      },
      "source": [
        "%matplotlib inline\n",
        "import numpy as np\n",
        "import matplotlib.pyplot as plt\n",
        "#round"
      ],
      "execution_count": 0,
      "outputs": []
    },
    {
      "cell_type": "markdown",
      "metadata": {
        "id": "G-uMJuevRod2",
        "colab_type": "text"
      },
      "source": [
        "# **情境** \n",
        "Kenny有一艘屬於他的小船，但是放船的門不小心被上鎖了，門口的密碼需要他解出陣列才能破解，於是他靜下心來，努力回想最近剛學的python來解決問題:"
      ]
    },
    {
      "cell_type": "code",
      "metadata": {
        "id": "_WHRDutKRqik",
        "colab_type": "code",
        "colab": {
          "base_uri": "https://localhost:8080/",
          "height": 34
        },
        "outputId": "c8236c90-827f-40c9-d7fa-b5e564187750"
      },
      "source": [
        "x = np.array([[3,8,7],\n",
        "              [5,8,4],\n",
        "              [2,3,3]])\n",
        "x.shape"
      ],
      "execution_count": 2,
      "outputs": [
        {
          "output_type": "execute_result",
          "data": {
            "text/plain": [
              "(3, 3)"
            ]
          },
          "metadata": {
            "tags": []
          },
          "execution_count": 2
        }
      ]
    },
    {
      "cell_type": "code",
      "metadata": {
        "id": "iK4KxsFpRvTh",
        "colab_type": "code",
        "colab": {
          "base_uri": "https://localhost:8080/",
          "height": 68
        },
        "outputId": "beea2712-f4f0-4cc6-cefa-06a722fb90d9"
      },
      "source": [
        "y = np.linalg.inv(x)\n",
        "y.round() + 0"
      ],
      "execution_count": 3,
      "outputs": [
        {
          "output_type": "execute_result",
          "data": {
            "text/plain": [
              "array([[ 0.,  0.,  1.],\n",
              "       [ 0.,  0., -1.],\n",
              "       [ 0.,  0.,  1.]])"
            ]
          },
          "metadata": {
            "tags": []
          },
          "execution_count": 3
        }
      ]
    },
    {
      "cell_type": "code",
      "metadata": {
        "id": "37jqgVTdRxPj",
        "colab_type": "code",
        "colab": {
          "base_uri": "https://localhost:8080/",
          "height": 68
        },
        "outputId": "961fcd36-ec83-43fa-cf4b-c32608a6d487"
      },
      "source": [
        "c = x@y\n",
        "c.round() + 0"
      ],
      "execution_count": 4,
      "outputs": [
        {
          "output_type": "execute_result",
          "data": {
            "text/plain": [
              "array([[1., 0., 0.],\n",
              "       [0., 1., 0.],\n",
              "       [0., 0., 1.]])"
            ]
          },
          "metadata": {
            "tags": []
          },
          "execution_count": 4
        }
      ]
    },
    {
      "cell_type": "code",
      "metadata": {
        "id": "QBC_h_apR0wd",
        "colab_type": "code",
        "colab": {
          "base_uri": "https://localhost:8080/",
          "height": 34
        },
        "outputId": "5bb6a7d0-282f-4fab-d196-7dabc5a9a8e2"
      },
      "source": [
        "np.allclose(c,np.eye(3))"
      ],
      "execution_count": 5,
      "outputs": [
        {
          "output_type": "execute_result",
          "data": {
            "text/plain": [
              "True"
            ]
          },
          "metadata": {
            "tags": []
          },
          "execution_count": 5
        }
      ]
    },
    {
      "cell_type": "code",
      "metadata": {
        "id": "D9KnN-5pR2gq",
        "colab_type": "code",
        "colab": {
          "base_uri": "https://localhost:8080/",
          "height": 68
        },
        "outputId": "1e1c57bd-a90b-4ac0-ae91-9b96103327f0"
      },
      "source": [
        "(x+y).round() + 0"
      ],
      "execution_count": 6,
      "outputs": [
        {
          "output_type": "execute_result",
          "data": {
            "text/plain": [
              "array([[3., 8., 8.],\n",
              "       [5., 8., 3.],\n",
              "       [2., 3., 4.]])"
            ]
          },
          "metadata": {
            "tags": []
          },
          "execution_count": 6
        }
      ]
    },
    {
      "cell_type": "markdown",
      "metadata": {
        "id": "A7XNZLjWSHGL",
        "colab_type": "text"
      },
      "source": [
        "Kenny經過了一番計算並驗證後，成功獲得密碼388583234打開了門，結果發現裡面空空如也，只看到地上一張紙寫著 **SB** ，並發出了悲憤地咆哮。"
      ]
    },
    {
      "cell_type": "markdown",
      "metadata": {
        "id": "f5ugbq7MTNK0",
        "colab_type": "text"
      },
      "source": [
        "## THE END"
      ]
    }
  ]
}