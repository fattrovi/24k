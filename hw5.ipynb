{
  "nbformat": 4,
  "nbformat_minor": 0,
  "metadata": {
    "colab": {
      "name": "hw5.ipynb",
      "provenance": [],
      "authorship_tag": "ABX9TyMMcck1qPdmmETrNZOGSJYU",
      "include_colab_link": true
    },
    "kernelspec": {
      "name": "python3",
      "display_name": "Python 3"
    }
  },
  "cells": [
    {
      "cell_type": "markdown",
      "metadata": {
        "id": "view-in-github",
        "colab_type": "text"
      },
      "source": [
        "<a href=\"https://colab.research.google.com/github/fattrovi/24k/blob/master/hw5.ipynb\" target=\"_parent\"><img src=\"https://colab.research.google.com/assets/colab-badge.svg\" alt=\"Open In Colab\"/></a>"
      ]
    },
    {
      "cell_type": "code",
      "metadata": {
        "id": "hfkGKPTfKbtN",
        "colab_type": "code",
        "colab": {}
      },
      "source": [
        "%matplotlib inline\n",
        "import numpy as np\n",
        "import matplotlib.pyplot as plt\n",
        "import sympy as sp"
      ],
      "execution_count": 0,
      "outputs": []
    },
    {
      "cell_type": "markdown",
      "metadata": {
        "id": "NzMo_IiKyWTF",
        "colab_type": "text"
      },
      "source": [
        "## 給予一n = 4 ,k = 4 的矩陣A"
      ]
    },
    {
      "cell_type": "code",
      "metadata": {
        "id": "qnlB2kaoqoTC",
        "colab_type": "code",
        "colab": {}
      },
      "source": [
        "a1 = sp.Matrix([2,3,3,3])\n",
        "a2 = sp.Matrix([9,1,2,8])\n",
        "a3 = sp.Matrix([4,7,1,3])\n",
        "a4 = sp.Matrix([1,3,1,4])"
      ],
      "execution_count": 0,
      "outputs": []
    },
    {
      "cell_type": "code",
      "metadata": {
        "id": "F7tx4i3qq5Y8",
        "colab_type": "code",
        "colab": {
          "base_uri": "https://localhost:8080/",
          "height": 102
        },
        "outputId": "388e5b2e-a451-492c-a0c4-e9c828723d68"
      },
      "source": [
        "A = sp.Matrix([[2,3,3,3],\n",
        "               [9,1,2,8],\n",
        "               [4,7,1,3],\n",
        "               [1,3,1,4]])\n",
        "A"
      ],
      "execution_count": 19,
      "outputs": [
        {
          "output_type": "execute_result",
          "data": {
            "text/plain": [
              "Matrix([\n",
              "[2, 3, 3, 3],\n",
              "[9, 1, 2, 8],\n",
              "[4, 7, 1, 3],\n",
              "[1, 3, 1, 4]])"
            ]
          },
          "metadata": {
            "tags": []
          },
          "execution_count": 19
        }
      ]
    },
    {
      "cell_type": "code",
      "metadata": {
        "id": "FL78npecq_gk",
        "colab_type": "code",
        "colab": {
          "base_uri": "https://localhost:8080/",
          "height": 102
        },
        "outputId": "111be481-a8fc-4be4-970c-0d2edba57021"
      },
      "source": [
        "A.rref()"
      ],
      "execution_count": 20,
      "outputs": [
        {
          "output_type": "execute_result",
          "data": {
            "text/plain": [
              "(Matrix([\n",
              " [1, 0, 0, 0],\n",
              " [0, 1, 0, 0],\n",
              " [0, 0, 1, 0],\n",
              " [0, 0, 0, 1]]), (0, 1, 2, 3))"
            ]
          },
          "metadata": {
            "tags": []
          },
          "execution_count": 20
        }
      ]
    },
    {
      "cell_type": "markdown",
      "metadata": {
        "id": "DLYrDblxyyEG",
        "colab_type": "text"
      },
      "source": [
        "## 由上得知A為四秩，故a1,a2,a3,a4互為線性獨立"
      ]
    },
    {
      "cell_type": "code",
      "metadata": {
        "id": "BWUvDoinxvQW",
        "colab_type": "code",
        "colab": {
          "base_uri": "https://localhost:8080/",
          "height": 34
        },
        "outputId": "d08a708e-f0b4-47c0-890d-4c87b81e2d64"
      },
      "source": [
        "B = A.rref()[0]\n",
        "B.shape"
      ],
      "execution_count": 21,
      "outputs": [
        {
          "output_type": "execute_result",
          "data": {
            "text/plain": [
              "(4, 4)"
            ]
          },
          "metadata": {
            "tags": []
          },
          "execution_count": 21
        }
      ]
    },
    {
      "cell_type": "markdown",
      "metadata": {
        "id": "SiCvwayezd0c",
        "colab_type": "text"
      },
      "source": [
        "## 共有四個線性獨立的向量"
      ]
    }
  ]
}